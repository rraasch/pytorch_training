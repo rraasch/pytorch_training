{
  "nbformat": 4,
  "nbformat_minor": 0,
  "metadata": {
    "colab": {
      "provenance": [],
      "machine_shape": "hm",
      "gpuType": "V100",
      "authorship_tag": "ABX9TyP99S5jZUG93qg7icM2bo6E",
      "include_colab_link": true
    },
    "kernelspec": {
      "name": "python3",
      "display_name": "Python 3"
    },
    "language_info": {
      "name": "python"
    },
    "accelerator": "GPU"
  },
  "cells": [
    {
      "cell_type": "markdown",
      "metadata": {
        "id": "view-in-github",
        "colab_type": "text"
      },
      "source": [
        "<a href=\"https://colab.research.google.com/github/rraasch/pytorch_training/blob/main/lin_reg_pytorch.ipynb\" target=\"_parent\"><img src=\"https://colab.research.google.com/assets/colab-badge.svg\" alt=\"Open In Colab\"/></a>"
      ]
    },
    {
      "cell_type": "code",
      "execution_count": 1,
      "metadata": {
        "id": "o4-FoR4cRNvH"
      },
      "outputs": [],
      "source": [
        "import torch"
      ]
    },
    {
      "cell_type": "code",
      "source": [
        "def forward(x):\n",
        "    y = w*x+b\n",
        "    return y"
      ],
      "metadata": {
        "id": "1uTbiDjxRZZG"
      },
      "execution_count": 2,
      "outputs": []
    },
    {
      "cell_type": "code",
      "source": [
        "def criterion(yhat, y):\n",
        "    return torch.mean((yhat-y)**2)"
      ],
      "metadata": {
        "id": "bimozxmRRhFL"
      },
      "execution_count": 3,
      "outputs": []
    },
    {
      "cell_type": "code",
      "source": [
        "w = torch.tensor(-15.0, requires_grad=True)\n",
        "b = torch.tensor(-10.0, requires_grad = True)\n",
        "X = torch.arange(-3, 3, .1).view(-1,1)\n",
        "f = 2*X-1\n",
        "y = f + 0.1*torch.randn(X.size())"
      ],
      "metadata": {
        "id": "vjPXwwuwRpy9"
      },
      "execution_count": 4,
      "outputs": []
    },
    {
      "cell_type": "code",
      "source": [],
      "metadata": {
        "id": "gSsMjcMMTTCY"
      },
      "execution_count": 4,
      "outputs": []
    },
    {
      "cell_type": "code",
      "source": [
        "lr = 0.1"
      ],
      "metadata": {
        "id": "bYPPUjVpSPbf"
      },
      "execution_count": 5,
      "outputs": []
    },
    {
      "cell_type": "code",
      "source": [
        "LOSS = []\n",
        "for epoch in range(25):\n",
        "    Yhat = forward(X)\n",
        "    loss = criterion(Yhat, y)\n",
        "    loss.backward()\n",
        "\n",
        "    w.data = w.data-lr*w.grad.data\n",
        "    w.grad.data.zero_()\n",
        "\n",
        "    b.data = b.data -lr*b.grad.data\n",
        "    b.grad.data.zero_()\n",
        "    LOSS.append(loss.item())"
      ],
      "metadata": {
        "id": "JvJr8aKySYs3"
      },
      "execution_count": 6,
      "outputs": []
    },
    {
      "cell_type": "code",
      "source": [
        "w, b"
      ],
      "metadata": {
        "colab": {
          "base_uri": "https://localhost:8080/"
        },
        "id": "nzL3ZKItS6p7",
        "outputId": "cefd3815-fcc0-494e-f501-c4ca30945031"
      },
      "execution_count": 7,
      "outputs": [
        {
          "output_type": "execute_result",
          "data": {
            "text/plain": [
              "(tensor(1.9945, requires_grad=True), tensor(-1.0298, requires_grad=True))"
            ]
          },
          "metadata": {},
          "execution_count": 7
        }
      ]
    },
    {
      "cell_type": "code",
      "source": [
        "print(LOSS)"
      ],
      "metadata": {
        "colab": {
          "base_uri": "https://localhost:8080/"
        },
        "id": "ieVha6aFTJDQ",
        "outputId": "2804ffde-17a5-4495-d9b0-0e49ad2023b9"
      },
      "execution_count": 8,
      "outputs": [
        {
          "output_type": "stream",
          "name": "stdout",
          "text": [
            "[932.818603515625, 191.50704956054688, 57.8934211730957, 26.747825622558594, 15.484116554260254, 9.65590763092041, 6.1444878578186035, 3.9310271739959717, 2.519153356552124, 1.6158868074417114, 1.0375787019729614, 0.6672533750534058, 0.43010058999061584, 0.2782289385795593, 0.18097035586833954, 0.11868605017662048, 0.07879927009344101, 0.05325573310256004, 0.03689765930175781, 0.026421992108225822, 0.0197133831679821, 0.0154171884059906, 0.012665885500609875, 0.010903987102210522, 0.009775646962225437]\n"
          ]
        }
      ]
    },
    {
      "cell_type": "code",
      "source": [
        "# more advanced example"
      ],
      "metadata": {
        "colab": {
          "base_uri": "https://localhost:8080/"
        },
        "id": "nR8gbKZOVCIx",
        "outputId": "52c93375-3bfb-49e1-9892-05ef1dc17537"
      },
      "execution_count": null,
      "outputs": [
        {
          "output_type": "stream",
          "name": "stderr",
          "text": [
            "UsageError: Line magic function `%md` not found.\n"
          ]
        }
      ]
    },
    {
      "cell_type": "code",
      "source": [
        "from torch.utils.data import Dataset, DataLoader"
      ],
      "metadata": {
        "id": "VaigeB-rWMEr"
      },
      "execution_count": 9,
      "outputs": []
    },
    {
      "cell_type": "code",
      "source": [
        "class Data(Dataset):\n",
        "    def __init__(self):\n",
        "        self.x = torch.arange(-3,3,0.1).view(-1,1)\n",
        "        self.y = -3*X+1\n",
        "        self.len = self.x.shape[0]\n",
        "\n",
        "    def __getitem__(self, index):\n",
        "        return self.x[index], self.y[index]\n",
        "\n",
        "    def __len__(self):\n",
        "        return self.len"
      ],
      "metadata": {
        "id": "M_W0IuwgWXDU"
      },
      "execution_count": 10,
      "outputs": []
    },
    {
      "cell_type": "code",
      "source": [
        "dataset = Data()"
      ],
      "metadata": {
        "id": "sUUjNHFeXG8H"
      },
      "execution_count": 11,
      "outputs": []
    },
    {
      "cell_type": "code",
      "source": [
        "import torch.nn as nn\n",
        "\n",
        "class LR(nn.Module):\n",
        "    def __init__(self, input_size, output_size):\n",
        "        super(LR, self).__init__()\n",
        "        self.linear = nn.Linear(input_size, output_size)\n",
        "\n",
        "    def forward(self, x):\n",
        "        out = self.linear(x)\n",
        "        return out"
      ],
      "metadata": {
        "id": "tmw_zVDHXXQ-"
      },
      "execution_count": 13,
      "outputs": []
    },
    {
      "cell_type": "code",
      "source": [
        "criterion = nn.MSELoss()"
      ],
      "metadata": {
        "id": "6dIawmfrbcAv"
      },
      "execution_count": 15,
      "outputs": []
    },
    {
      "cell_type": "code",
      "source": [
        "trainloader = DataLoader(dataset = dataset, batch_size = 1)"
      ],
      "metadata": {
        "id": "e7ddTxSQcfLo"
      },
      "execution_count": 17,
      "outputs": []
    },
    {
      "cell_type": "code",
      "source": [
        "model = LR(1,1)"
      ],
      "metadata": {
        "id": "lb4UsBHicqm9"
      },
      "execution_count": 20,
      "outputs": []
    },
    {
      "cell_type": "code",
      "source": [
        "from torch import nn, optim"
      ],
      "metadata": {
        "id": "DvHWnUlIcxbn"
      },
      "execution_count": 21,
      "outputs": []
    },
    {
      "cell_type": "code",
      "source": [
        "optimizer = optim.SGD(model.parameters(), lr = 1e-2)"
      ],
      "metadata": {
        "id": "8dibzWwLc8WM"
      },
      "execution_count": 22,
      "outputs": []
    },
    {
      "cell_type": "code",
      "source": [
        "optimizer.state_dict()"
      ],
      "metadata": {
        "colab": {
          "base_uri": "https://localhost:8080/"
        },
        "id": "5NTPDbw_dEN_",
        "outputId": "7a11c614-57e8-4eeb-8566-d1470e3324af"
      },
      "execution_count": 23,
      "outputs": [
        {
          "output_type": "execute_result",
          "data": {
            "text/plain": [
              "{'state': {},\n",
              " 'param_groups': [{'lr': 0.01,\n",
              "   'momentum': 0,\n",
              "   'dampening': 0,\n",
              "   'weight_decay': 0,\n",
              "   'nesterov': False,\n",
              "   'maximize': False,\n",
              "   'foreach': None,\n",
              "   'differentiable': False,\n",
              "   'params': [0, 1]}]}"
            ]
          },
          "metadata": {},
          "execution_count": 23
        }
      ]
    },
    {
      "cell_type": "code",
      "source": [
        "for epoch in range(200):\n",
        "    for x,y in trainloader:\n",
        "        yhat = model(x)\n",
        "        loss = criterion(yhat, y)\n",
        "        optimizer.zero_grad() #set gradients to 0\n",
        "        loss.backward() #calculate the loss\n",
        "        optimizer.step() #update parameters using the optimizer\n"
      ],
      "metadata": {
        "id": "lXXpgra7dMYa"
      },
      "execution_count": 26,
      "outputs": []
    },
    {
      "cell_type": "code",
      "source": [
        "list(model.parameters())"
      ],
      "metadata": {
        "colab": {
          "base_uri": "https://localhost:8080/"
        },
        "id": "YYRVaHfGdx_w",
        "outputId": "30c7b328-a9cc-44ec-9949-9395f83ea31c"
      },
      "execution_count": 27,
      "outputs": [
        {
          "output_type": "execute_result",
          "data": {
            "text/plain": [
              "[Parameter containing:\n",
              " tensor([[-3.]], requires_grad=True),\n",
              " Parameter containing:\n",
              " tensor([1.0000], requires_grad=True)]"
            ]
          },
          "metadata": {},
          "execution_count": 27
        }
      ]
    },
    {
      "cell_type": "code",
      "source": [],
      "metadata": {
        "id": "feTOMB-Edzbk"
      },
      "execution_count": null,
      "outputs": []
    }
  ]
}