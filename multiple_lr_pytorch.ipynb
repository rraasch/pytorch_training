{
  "nbformat": 4,
  "nbformat_minor": 0,
  "metadata": {
    "colab": {
      "provenance": [],
      "authorship_tag": "ABX9TyNg66m68ADsb8rxQzMuSxXO",
      "include_colab_link": true
    },
    "kernelspec": {
      "name": "python3",
      "display_name": "Python 3"
    },
    "language_info": {
      "name": "python"
    }
  },
  "cells": [
    {
      "cell_type": "markdown",
      "metadata": {
        "id": "view-in-github",
        "colab_type": "text"
      },
      "source": [
        "<a href=\"https://colab.research.google.com/github/rraasch/pytorch_training/blob/main/multiple_lr_pytorch.ipynb\" target=\"_parent\"><img src=\"https://colab.research.google.com/assets/colab-badge.svg\" alt=\"Open In Colab\"/></a>"
      ]
    },
    {
      "cell_type": "markdown",
      "source": [
        "This example is for a multiple regression that has a 2D input vector."
      ],
      "metadata": {
        "id": "5pNIhlhtgCEF"
      }
    },
    {
      "cell_type": "code",
      "execution_count": 3,
      "metadata": {
        "id": "vxr6BQB8fx36"
      },
      "outputs": [],
      "source": [
        "import torch\n",
        "from torch.nn import Linear"
      ]
    },
    {
      "cell_type": "code",
      "source": [
        "torch.manual_seed(1)"
      ],
      "metadata": {
        "colab": {
          "base_uri": "https://localhost:8080/"
        },
        "id": "wo6KzsIKf4oc",
        "outputId": "b34e2201-7bb9-4e5d-9fd0-674b3ef980be"
      },
      "execution_count": 4,
      "outputs": [
        {
          "output_type": "execute_result",
          "data": {
            "text/plain": [
              "<torch._C.Generator at 0x7c1114b58670>"
            ]
          },
          "metadata": {},
          "execution_count": 4
        }
      ]
    },
    {
      "cell_type": "code",
      "source": [
        "model = Linear(in_features = 2, out_features = 1)"
      ],
      "metadata": {
        "id": "fK0GKkcQf7Gf"
      },
      "execution_count": 5,
      "outputs": []
    },
    {
      "cell_type": "code",
      "source": [
        "list(model.parameters())"
      ],
      "metadata": {
        "colab": {
          "base_uri": "https://localhost:8080/"
        },
        "id": "SK7sUihlgMZJ",
        "outputId": "049528f8-19eb-4034-82b0-0e0b8b5041a3"
      },
      "execution_count": 6,
      "outputs": [
        {
          "output_type": "execute_result",
          "data": {
            "text/plain": [
              "[Parameter containing:\n",
              " tensor([[ 0.3643, -0.3121]], requires_grad=True),\n",
              " Parameter containing:\n",
              " tensor([-0.1371], requires_grad=True)]"
            ]
          },
          "metadata": {},
          "execution_count": 6
        }
      ]
    },
    {
      "cell_type": "code",
      "source": [
        "X = torch.tensor([1.0,3.0])\n",
        "yhat = model(X)\n",
        "print(yhat)"
      ],
      "metadata": {
        "colab": {
          "base_uri": "https://localhost:8080/"
        },
        "id": "ApQ95zD8gXag",
        "outputId": "319bfdfc-42f6-43a2-a69b-2e44d7bce273"
      },
      "execution_count": 8,
      "outputs": [
        {
          "output_type": "stream",
          "name": "stdout",
          "text": [
            "tensor([-0.7090], grad_fn=<AddBackward0>)\n"
          ]
        }
      ]
    },
    {
      "cell_type": "code",
      "source": [
        "X = torch.tensor([[1.0, 1.0], [2.0, 2.0], [1.0, 3.0]])\n",
        "yhat = model(X)\n",
        "print(yhat)"
      ],
      "metadata": {
        "colab": {
          "base_uri": "https://localhost:8080/"
        },
        "id": "-iwt31fXgkWi",
        "outputId": "4f5bf5c3-73f8-4882-dd78-7395b5141268"
      },
      "execution_count": 11,
      "outputs": [
        {
          "output_type": "stream",
          "name": "stdout",
          "text": [
            "tensor([[-0.0848],\n",
            "        [-0.0326],\n",
            "        [-0.7090]], grad_fn=<AddmmBackward0>)\n"
          ]
        }
      ]
    },
    {
      "cell_type": "markdown",
      "source": [
        "If we wanted to make a custom module for MLR:"
      ],
      "metadata": {
        "id": "bFtM1NMKhBSv"
      }
    },
    {
      "cell_type": "code",
      "source": [
        "import torch.nn as nn"
      ],
      "metadata": {
        "id": "wk4MXE02gyHo"
      },
      "execution_count": 12,
      "outputs": []
    },
    {
      "cell_type": "code",
      "source": [
        "class MLR(nn.Module):\n",
        "    def __init__(self, input_size, output_size):\n",
        "        super(MLR, self).__init__()\n",
        "        self.linear = nn.Linear(input_size, output_size)\n",
        "\n",
        "    def forward(self, X):\n",
        "        out = self.linear(X)\n",
        "        return out"
      ],
      "metadata": {
        "id": "GBpMqjUEhGnl"
      },
      "execution_count": 19,
      "outputs": []
    },
    {
      "cell_type": "code",
      "source": [
        "torch.manual_seed(1)"
      ],
      "metadata": {
        "colab": {
          "base_uri": "https://localhost:8080/"
        },
        "id": "eUNmEwGQhdbk",
        "outputId": "8dda4b63-14ce-4f98-9501-948135d0e1fe"
      },
      "execution_count": 20,
      "outputs": [
        {
          "output_type": "execute_result",
          "data": {
            "text/plain": [
              "<torch._C.Generator at 0x7c1114b58670>"
            ]
          },
          "metadata": {},
          "execution_count": 20
        }
      ]
    },
    {
      "cell_type": "code",
      "source": [
        "model = MLR(2,1)"
      ],
      "metadata": {
        "id": "-cnpa8bLhpp3"
      },
      "execution_count": 21,
      "outputs": []
    },
    {
      "cell_type": "code",
      "source": [
        "X = torch.tensor([1.0, 2.0])\n",
        "yhat = model(X)\n",
        "print(yhat)"
      ],
      "metadata": {
        "colab": {
          "base_uri": "https://localhost:8080/"
        },
        "id": "3e3GekPbhud1",
        "outputId": "3ef99b08-af24-4e8c-b8f0-3ca9cca22741"
      },
      "execution_count": 22,
      "outputs": [
        {
          "output_type": "stream",
          "name": "stdout",
          "text": [
            "tensor([-0.3969], grad_fn=<AddBackward0>)\n"
          ]
        }
      ]
    },
    {
      "cell_type": "code",
      "source": [],
      "metadata": {
        "id": "iUdPJDmYh__Z"
      },
      "execution_count": null,
      "outputs": []
    },
    {
      "cell_type": "markdown",
      "source": [
        "Now for multiple output linear regression:"
      ],
      "metadata": {
        "id": "Sxd8V232inTq"
      }
    },
    {
      "cell_type": "code",
      "source": [
        "model = nn.Linear(2, 2)"
      ],
      "metadata": {
        "id": "DGRrii2qirYM"
      },
      "execution_count": 23,
      "outputs": []
    },
    {
      "cell_type": "code",
      "source": [
        "X = torch.tensor([1.0, 2.0])\n",
        "yhat = model(X)\n",
        "print(yhat)"
      ],
      "metadata": {
        "colab": {
          "base_uri": "https://localhost:8080/"
        },
        "id": "VZANCE_DitxC",
        "outputId": "d1221749-69f0-4be3-a9dd-28d4ac5a2749"
      },
      "execution_count": 24,
      "outputs": [
        {
          "output_type": "stream",
          "name": "stdout",
          "text": [
            "tensor([-0.6398,  0.2314], grad_fn=<AddBackward0>)\n"
          ]
        }
      ]
    },
    {
      "cell_type": "code",
      "source": [
        "X = torch.tensor([[1.0, 2.0],[1.0, 3.0],[4.0, 4.0]])\n",
        "yhat = model(X)\n",
        "print(yhat)"
      ],
      "metadata": {
        "colab": {
          "base_uri": "https://localhost:8080/"
        },
        "id": "glPbUcrmiyQK",
        "outputId": "33f4539f-d5d3-49c2-e8b8-3ad2c98f6a1d"
      },
      "execution_count": 25,
      "outputs": [
        {
          "output_type": "stream",
          "name": "stdout",
          "text": [
            "tensor([[-0.6398,  0.2314],\n",
            "        [-1.3055,  0.0860],\n",
            "        [-0.9755,  1.2127]], grad_fn=<AddmmBackward0>)\n"
          ]
        }
      ]
    },
    {
      "cell_type": "code",
      "source": [],
      "metadata": {
        "id": "YTqOy69kjgsI"
      },
      "execution_count": null,
      "outputs": []
    },
    {
      "cell_type": "markdown",
      "source": [
        "TRAINING A MLR MODEL"
      ],
      "metadata": {
        "id": "ysC9sY42jwcb"
      }
    },
    {
      "cell_type": "code",
      "source": [
        "import torch.nn as nn\n",
        "\n",
        "class LR(nn.Module):\n",
        "    def __init__(self, input_size, output_size):\n",
        "        super(LR, self).__init__()\n",
        "        self.linear = nn.Linear(input_size, output_size)\n",
        "\n",
        "    def forward(self, x):\n",
        "        out = self.linear(x)\n",
        "        return out"
      ],
      "metadata": {
        "id": "IU8E6n_2jzyR"
      },
      "execution_count": 26,
      "outputs": []
    },
    {
      "cell_type": "code",
      "source": [
        "from torch.utils.data import Dataset, DataLoader"
      ],
      "metadata": {
        "id": "jMegNBzSkEqr"
      },
      "execution_count": 27,
      "outputs": []
    },
    {
      "cell_type": "code",
      "source": [
        "torch.tensor([[1.0, -1.0], [1.0, -1.0]])"
      ],
      "metadata": {
        "colab": {
          "base_uri": "https://localhost:8080/"
        },
        "id": "TFZClJnXoY1e",
        "outputId": "9b0d2652-b855-41ae-8289-fa9c588f7651"
      },
      "execution_count": 53,
      "outputs": [
        {
          "output_type": "execute_result",
          "data": {
            "text/plain": [
              "tensor([[ 1., -1.],\n",
              "        [ 1., -1.]])"
            ]
          },
          "metadata": {},
          "execution_count": 53
        }
      ]
    },
    {
      "cell_type": "code",
      "source": [
        "class data2D(Dataset):\n",
        "    def __init__(self):\n",
        "        self.x = torch.zeros(20,2)\n",
        "        self.x[:,0] = torch.arange(-1.0, 1.0, 0.1)\n",
        "        self.x[:,1] = torch.arange(-1.0, 1.0, 0.1)\n",
        "        self.w = torch.tensor([[1.0, -1.0], [1.0, -1.0]])\n",
        "        self.b = torch.tensor([[1.0, -1.0]])\n",
        "        self.f = torch.mm(self.x, self.w)+self.b\n",
        "        self.y = self.f+0.1*torch.randn((self.x.shape[0], 1))\n",
        "        self.len = self.x.shape[0]\n",
        "\n",
        "    def __getitem__(self, index):\n",
        "        return self.x[index], self.y[index]\n",
        "\n",
        "    def __len__(self):\n",
        "        return self.len"
      ],
      "metadata": {
        "id": "x1Hp4FmykL_l"
      },
      "execution_count": 56,
      "outputs": []
    },
    {
      "cell_type": "code",
      "source": [
        "data_set = data2D()"
      ],
      "metadata": {
        "id": "gEUymRcUlWQk"
      },
      "execution_count": 57,
      "outputs": []
    },
    {
      "cell_type": "code",
      "source": [
        "criterion = nn.MSELoss()\n",
        "trainloader = DataLoader(dataset = data_set, batch_size = 1)"
      ],
      "metadata": {
        "id": "PT8_cba0lcd_"
      },
      "execution_count": 58,
      "outputs": []
    },
    {
      "cell_type": "code",
      "source": [
        "model = LR(2, 2)\n",
        "optimizer = torch.optim.SGD(model.parameters(), lr = 0.1)"
      ],
      "metadata": {
        "id": "iZq_byvunrDz"
      },
      "execution_count": 59,
      "outputs": []
    },
    {
      "cell_type": "code",
      "source": [
        "for epoch in range(200):\n",
        "    for x,y in trainloader:\n",
        "        yhat = model(x)\n",
        "        loss = criterion(yhat, y)\n",
        "        optimizer.zero_grad()\n",
        "        loss.backward()\n",
        "        optimizer.step()\n",
        "    print(loss.item())\n"
      ],
      "metadata": {
        "colab": {
          "base_uri": "https://localhost:8080/"
        },
        "id": "MnegwEkUn0on",
        "outputId": "e7c3542d-3571-4acf-92af-22507627a92f"
      },
      "execution_count": 61,
      "outputs": [
        {
          "output_type": "stream",
          "name": "stdout",
          "text": [
            "0.7362796068191528\n",
            "0.039826732128858566\n",
            "0.006636898498982191\n",
            "0.004760971292853355\n",
            "0.00458197295665741\n",
            "0.004554556682705879\n",
            "0.004549575038254261\n",
            "0.00454865675419569\n",
            "0.0045484635047614574\n",
            "0.004548431374132633\n",
            "0.004548447672277689\n",
            "0.004548431374132633\n",
            "0.004548431374132633\n",
            "0.004548431374132633\n",
            "0.004548431374132633\n",
            "0.004548431374132633\n",
            "0.004548431374132633\n",
            "0.004548431374132633\n",
            "0.004548431374132633\n",
            "0.004548431374132633\n",
            "0.004548431374132633\n",
            "0.004548431374132633\n",
            "0.004548431374132633\n",
            "0.004548431374132633\n",
            "0.004548431374132633\n",
            "0.004548431374132633\n",
            "0.004548431374132633\n",
            "0.004548431374132633\n",
            "0.004548431374132633\n",
            "0.004548431374132633\n",
            "0.004548431374132633\n",
            "0.004548431374132633\n",
            "0.004548431374132633\n",
            "0.004548431374132633\n",
            "0.004548431374132633\n",
            "0.004548431374132633\n",
            "0.004548431374132633\n",
            "0.004548431374132633\n",
            "0.004548431374132633\n",
            "0.004548431374132633\n",
            "0.004548431374132633\n",
            "0.004548431374132633\n",
            "0.004548431374132633\n",
            "0.004548431374132633\n",
            "0.004548431374132633\n",
            "0.004548431374132633\n",
            "0.004548431374132633\n",
            "0.004548431374132633\n",
            "0.004548431374132633\n",
            "0.004548431374132633\n",
            "0.004548431374132633\n",
            "0.004548431374132633\n",
            "0.004548431374132633\n",
            "0.004548431374132633\n",
            "0.004548431374132633\n",
            "0.004548431374132633\n",
            "0.004548431374132633\n",
            "0.004548431374132633\n",
            "0.004548431374132633\n",
            "0.004548431374132633\n",
            "0.004548431374132633\n",
            "0.004548431374132633\n",
            "0.004548431374132633\n",
            "0.004548431374132633\n",
            "0.004548431374132633\n",
            "0.004548431374132633\n",
            "0.004548431374132633\n",
            "0.004548431374132633\n",
            "0.004548431374132633\n",
            "0.004548431374132633\n",
            "0.004548431374132633\n",
            "0.004548431374132633\n",
            "0.004548431374132633\n",
            "0.004548431374132633\n",
            "0.004548431374132633\n",
            "0.004548431374132633\n",
            "0.004548431374132633\n",
            "0.004548431374132633\n",
            "0.004548431374132633\n",
            "0.004548431374132633\n",
            "0.004548431374132633\n",
            "0.004548431374132633\n",
            "0.004548431374132633\n",
            "0.004548431374132633\n",
            "0.004548431374132633\n",
            "0.004548431374132633\n",
            "0.004548431374132633\n",
            "0.004548431374132633\n",
            "0.004548431374132633\n",
            "0.004548431374132633\n",
            "0.004548431374132633\n",
            "0.004548431374132633\n",
            "0.004548431374132633\n",
            "0.004548431374132633\n",
            "0.004548431374132633\n",
            "0.004548431374132633\n",
            "0.004548431374132633\n",
            "0.004548431374132633\n",
            "0.004548431374132633\n",
            "0.004548431374132633\n",
            "0.004548431374132633\n",
            "0.004548431374132633\n",
            "0.004548431374132633\n",
            "0.004548431374132633\n",
            "0.004548431374132633\n",
            "0.004548431374132633\n",
            "0.004548431374132633\n",
            "0.004548431374132633\n",
            "0.004548431374132633\n",
            "0.004548431374132633\n",
            "0.004548431374132633\n",
            "0.004548431374132633\n",
            "0.004548431374132633\n",
            "0.004548431374132633\n",
            "0.004548431374132633\n",
            "0.004548431374132633\n",
            "0.004548431374132633\n",
            "0.004548431374132633\n",
            "0.004548431374132633\n",
            "0.004548431374132633\n",
            "0.004548431374132633\n",
            "0.004548431374132633\n",
            "0.004548431374132633\n",
            "0.004548431374132633\n",
            "0.004548431374132633\n",
            "0.004548431374132633\n",
            "0.004548431374132633\n",
            "0.004548431374132633\n",
            "0.004548431374132633\n",
            "0.004548431374132633\n",
            "0.004548431374132633\n",
            "0.004548431374132633\n",
            "0.004548431374132633\n",
            "0.004548431374132633\n",
            "0.004548431374132633\n",
            "0.004548431374132633\n",
            "0.004548431374132633\n",
            "0.004548431374132633\n",
            "0.004548431374132633\n",
            "0.004548431374132633\n",
            "0.004548431374132633\n",
            "0.004548431374132633\n",
            "0.004548431374132633\n",
            "0.004548431374132633\n",
            "0.004548431374132633\n",
            "0.004548431374132633\n",
            "0.004548431374132633\n",
            "0.004548431374132633\n",
            "0.004548431374132633\n",
            "0.004548431374132633\n",
            "0.004548431374132633\n",
            "0.004548431374132633\n",
            "0.004548431374132633\n",
            "0.004548431374132633\n",
            "0.004548431374132633\n",
            "0.004548431374132633\n",
            "0.004548431374132633\n",
            "0.004548431374132633\n",
            "0.004548431374132633\n",
            "0.004548431374132633\n",
            "0.004548431374132633\n",
            "0.004548431374132633\n",
            "0.004548431374132633\n",
            "0.004548431374132633\n",
            "0.004548431374132633\n",
            "0.004548431374132633\n",
            "0.004548431374132633\n",
            "0.004548431374132633\n",
            "0.004548431374132633\n",
            "0.004548431374132633\n",
            "0.004548431374132633\n",
            "0.004548431374132633\n",
            "0.004548431374132633\n",
            "0.004548431374132633\n",
            "0.004548431374132633\n",
            "0.004548431374132633\n",
            "0.004548431374132633\n",
            "0.004548431374132633\n",
            "0.004548431374132633\n",
            "0.004548431374132633\n",
            "0.004548431374132633\n",
            "0.004548431374132633\n",
            "0.004548431374132633\n",
            "0.004548431374132633\n",
            "0.004548431374132633\n",
            "0.004548431374132633\n",
            "0.004548431374132633\n",
            "0.004548431374132633\n",
            "0.004548431374132633\n",
            "0.004548431374132633\n",
            "0.004548431374132633\n",
            "0.004548431374132633\n",
            "0.004548431374132633\n",
            "0.004548431374132633\n",
            "0.004548431374132633\n",
            "0.004548431374132633\n",
            "0.004548431374132633\n",
            "0.004548431374132633\n",
            "0.004548431374132633\n",
            "0.004548431374132633\n"
          ]
        }
      ]
    },
    {
      "cell_type": "code",
      "source": [
        "list(model.parameters())"
      ],
      "metadata": {
        "colab": {
          "base_uri": "https://localhost:8080/"
        },
        "id": "9gL_13zRoLll",
        "outputId": "00e9f15e-caf8-4141-f359-151e789b50f8"
      },
      "execution_count": 62,
      "outputs": [
        {
          "output_type": "execute_result",
          "data": {
            "text/plain": [
              "[Parameter containing:\n",
              " tensor([[ 0.6742,  1.3950],\n",
              "         [-1.4035, -0.5273]], requires_grad=True),\n",
              " Parameter containing:\n",
              " tensor([ 1.0122, -0.9878], requires_grad=True)]"
            ]
          },
          "metadata": {},
          "execution_count": 62
        }
      ]
    },
    {
      "cell_type": "code",
      "source": [],
      "metadata": {
        "id": "SJM1ZKUcosKJ"
      },
      "execution_count": null,
      "outputs": []
    }
  ]
}