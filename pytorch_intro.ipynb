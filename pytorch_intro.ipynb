{
  "nbformat": 4,
  "nbformat_minor": 0,
  "metadata": {
    "colab": {
      "provenance": [],
      "authorship_tag": "ABX9TyN6Tsif7xsFTb73O5IOT2rQ",
      "include_colab_link": true
    },
    "kernelspec": {
      "name": "python3",
      "display_name": "Python 3"
    },
    "language_info": {
      "name": "python"
    },
    "accelerator": "GPU",
    "gpuClass": "standard"
  },
  "cells": [
    {
      "cell_type": "markdown",
      "metadata": {
        "id": "view-in-github",
        "colab_type": "text"
      },
      "source": [
        "<a href=\"https://colab.research.google.com/github/rraasch/pytorch_training/blob/main/pytorch_intro.ipynb\" target=\"_parent\"><img src=\"https://colab.research.google.com/assets/colab-badge.svg\" alt=\"Open In Colab\"/></a>"
      ]
    },
    {
      "cell_type": "code",
      "execution_count": null,
      "metadata": {
        "id": "5qTsQsTF2GmE"
      },
      "outputs": [],
      "source": [
        "#pytorch learning"
      ]
    },
    {
      "cell_type": "code",
      "source": [
        "import numpy as np\n",
        "import pandas as pd\n",
        "import torch"
      ],
      "metadata": {
        "id": "CVtI4_xN2Ikf"
      },
      "execution_count": null,
      "outputs": []
    },
    {
      "cell_type": "code",
      "source": [
        "import torch\n",
        "import torchvision\n",
        "import torchvision.transforms as transforms\n",
        "\n",
        "# PyTorch TensorBoard support\n",
        "from torch.utils.tensorboard import SummaryWriter\n",
        "from datetime import datetime"
      ],
      "metadata": {
        "id": "CEUO2Dba2XwP"
      },
      "execution_count": null,
      "outputs": []
    },
    {
      "cell_type": "code",
      "source": [
        "transform = transforms.Compose(\n",
        "    [transforms.ToTensor(),\n",
        "    transforms.Normalize((0.5,), (0.5,))])\n",
        "\n",
        "# Create datasets for training & validation, download if necessary\n",
        "training_set = torchvision.datasets.FashionMNIST('./data', train=True, transform=transform, download=True)\n",
        "validation_set = torchvision.datasets.FashionMNIST('./data', train=False, transform=transform, download=True)"
      ],
      "metadata": {
        "colab": {
          "base_uri": "https://localhost:8080/"
        },
        "id": "k46phNyn2fPa",
        "outputId": "c58ea2c5-b39e-4be0-fdd4-a3676f76ab1e"
      },
      "execution_count": null,
      "outputs": [
        {
          "output_type": "stream",
          "name": "stdout",
          "text": [
            "Dataset FashionMNIST\n",
            "    Number of datapoints: 60000\n",
            "    Root location: ./data\n",
            "    Split: Train\n",
            "    StandardTransform\n",
            "Transform: Compose(\n",
            "               ToTensor()\n",
            "               Normalize(mean=(0.5,), std=(0.5,))\n",
            "           )\n"
          ]
        }
      ]
    },
    {
      "cell_type": "code",
      "source": [
        "# Create data loaders for our datasets; shuffle for training, not for validation\n",
        "training_loader = torch.utils.data.DataLoader(training_set, batch_size=4, shuffle=True)\n",
        "validation_loader = torch.utils.data.DataLoader(validation_set, batch_size=4, shuffle=False)\n",
        "\n",
        "# Class labels\n",
        "classes = ('T-shirt/top', 'Trouser', 'Pullover', 'Dress', 'Coat',\n",
        "        'Sandal', 'Shirt', 'Sneaker', 'Bag', 'Ankle Boot')\n",
        "\n",
        "# Report split sizes\n",
        "print('Training set has {} instances'.format(len(training_set)))\n",
        "print('Validation set has {} instances'.format(len(validation_set)))"
      ],
      "metadata": {
        "colab": {
          "base_uri": "https://localhost:8080/"
        },
        "id": "8BzxYlyr2s12",
        "outputId": "d2a3a8f5-bbd1-4661-9f11-cc77623dc19e"
      },
      "execution_count": null,
      "outputs": [
        {
          "output_type": "stream",
          "name": "stdout",
          "text": [
            "Training set has 60000 instances\n",
            "Validation set has 10000 instances\n"
          ]
        }
      ]
    },
    {
      "cell_type": "code",
      "source": [
        "import matplotlib.pyplot as plt\n",
        "import numpy as np\n",
        "\n",
        "# Helper function for inline image display\n",
        "def matplotlib_imshow(img, one_channel=False):\n",
        "    if one_channel:\n",
        "        img = img.mean(dim=0)\n",
        "    img = img / 2 + 0.5     # unnormalize\n",
        "    npimg = img.numpy()\n",
        "    if one_channel:\n",
        "        plt.imshow(npimg, cmap=\"Greys\")\n",
        "    else:\n",
        "        plt.imshow(np.transpose(npimg, (1, 2, 0)))\n",
        "\n",
        "dataiter = iter(training_loader)\n",
        "images, labels = next(dataiter)\n",
        "\n",
        "# Create a grid from the images and show them\n",
        "img_grid = torchvision.utils.make_grid(images)\n",
        "matplotlib_imshow(img_grid, one_channel=True)\n",
        "print('  '.join(classes[labels[j]] for j in range(4)))"
      ],
      "metadata": {
        "colab": {
          "base_uri": "https://localhost:8080/",
          "height": 212
        },
        "id": "kYn3nqkR3MhP",
        "outputId": "f982f005-2d10-498d-d323-75a05c134adb"
      },
      "execution_count": null,
      "outputs": [
        {
          "output_type": "stream",
          "name": "stdout",
          "text": [
            "Shirt  Shirt  Shirt  Coat\n"
          ]
        },
        {
          "output_type": "display_data",
          "data": {
            "text/plain": [
              "<Figure size 640x480 with 1 Axes>"
            ],
            "image/png": "[encoded data removed]"
          },
          "metadata": {}
        }
      ]
    },
    {
      "cell_type": "code",
      "source": [
        "import torch.nn as nn\n",
        "import torch.nn.functional as F\n",
        "\n",
        "# PyTorch models inherit from torch.nn.Module\n",
        "class GarmentClassifier(nn.Module):\n",
        "    def __init__(self):\n",
        "        super(GarmentClassifier, self).__init__()\n",
        "        self.conv1 = nn.Conv2d(1, 6, 5)\n",
        "        self.pool = nn.MaxPool2d(2, 2)\n",
        "        self.conv2 = nn.Conv2d(6, 16, 5)\n",
        "        self.fc1 = nn.Linear(16 * 4 * 4, 120)\n",
        "        self.fc2 = nn.Linear(120, 84)\n",
        "        self.fc3 = nn.Linear(84, 10)\n",
        "\n",
        "    def forward(self, x):\n",
        "        x = self.pool(F.relu(self.conv1(x)))\n",
        "        x = self.pool(F.relu(self.conv2(x)))\n",
        "        x = x.view(-1, 16 * 4 * 4)\n",
        "        x = F.relu(self.fc1(x))\n",
        "        x = F.relu(self.fc2(x))\n",
        "        x = self.fc3(x)\n",
        "        return x\n",
        "\n",
        "\n",
        "model = GarmentClassifier()"
      ],
      "metadata": {
        "id": "vVCzAWmz3SZ6"
      },
      "execution_count": null,
      "outputs": []
    },
    {
      "cell_type": "code",
      "source": [
        "loss_fn = torch.nn.CrossEntropyLoss()\n",
        "\n",
        "# NB: Loss functions expect data in batches, so we're creating batches of 4\n",
        "# Represents the model's confidence in each of the 10 classes for a given input\n",
        "dummy_outputs = torch.rand(4, 10)\n",
        "# Represents the correct class among the 10 being tested\n",
        "dummy_labels = torch.tensor([1, 5, 3, 7])\n",
        "\n",
        "print(dummy_outputs)\n",
        "print(dummy_labels)\n",
        "\n",
        "loss = loss_fn(dummy_outputs, dummy_labels)\n",
        "print('Total loss for this batch: {}'.format(loss.item()))"
      ],
      "metadata": {
        "colab": {
          "base_uri": "https://localhost:8080/"
        },
        "id": "cJGV1i9Q3hQu",
        "outputId": "502f6e9c-3eda-447b-8119-b7c481a5ed5d"
      },
      "execution_count": null,
      "outputs": [
        {
          "output_type": "stream",
          "name": "stdout",
          "text": [
            "tensor([[0.7006, 0.4822, 0.8868, 0.5842, 0.9985, 0.4313, 0.5414, 0.3406, 0.6026,\n",
            "         0.6888],\n",
            "        [0.9262, 0.5191, 0.1010, 0.5353, 0.0364, 0.1251, 0.2849, 0.2800, 0.5409,\n",
            "         0.6426],\n",
            "        [0.1888, 0.3743, 0.7960, 0.4193, 0.0178, 0.0386, 0.6624, 0.9525, 0.2164,\n",
            "         0.1160],\n",
            "        [0.0803, 0.4746, 0.5817, 0.8494, 0.9971, 0.9580, 0.4902, 0.3764, 0.5071,\n",
            "         0.9477]])\n",
            "tensor([1, 5, 3, 7])\n",
            "Total loss for this batch: 2.4955968856811523\n"
          ]
        }
      ]
    },
    {
      "cell_type": "code",
      "source": [
        "# Optimizers specified in the torch.optim package\n",
        "optimizer = torch.optim.SGD(model.parameters(), lr=0.001, momentum=0.9)"
      ],
      "metadata": {
        "id": "sbAUyK9B3wNT"
      },
      "execution_count": null,
      "outputs": []
    },
    {
      "cell_type": "code",
      "source": [
        "def train_one_epoch(epoch_index, tb_writer):\n",
        "    running_loss = 0.\n",
        "    last_loss = 0.\n",
        "\n",
        "    # Here, we use enumerate(training_loader) instead of\n",
        "    # iter(training_loader) so that we can track the batch\n",
        "    # index and do some intra-epoch reporting\n",
        "    for i, data in enumerate(training_loader):\n",
        "        # Every data instance is an input + label pair\n",
        "        inputs, labels = data\n",
        "\n",
        "        # Zero your gradients for every batch!\n",
        "        optimizer.zero_grad()\n",
        "\n",
        "        # Make predictions for this batch\n",
        "        outputs = model(inputs)\n",
        "\n",
        "        # Compute the loss and its gradients\n",
        "        loss = loss_fn(outputs, labels)\n",
        "        loss.backward()\n",
        "\n",
        "        # Adjust learning weights\n",
        "        optimizer.step()\n",
        "\n",
        "        # Gather data and report\n",
        "        running_loss += loss.item()\n",
        "        if i % 1000 == 999:\n",
        "            last_loss = running_loss / 1000 # loss per batch\n",
        "            print('  batch {} loss: {}'.format(i + 1, last_loss))\n",
        "            tb_x = epoch_index * len(training_loader) + i + 1\n",
        "            tb_writer.add_scalar('Loss/train', last_loss, tb_x)\n",
        "            running_loss = 0.\n",
        "\n",
        "    return last_loss"
      ],
      "metadata": {
        "id": "HDU-Uw7U34e8"
      },
      "execution_count": null,
      "outputs": []
    },
    {
      "cell_type": "code",
      "source": [
        "# Initializing in a separate cell so we can easily add more epochs to the same run\n",
        "timestamp = datetime.now().strftime('%Y%m%d_%H%M%S')\n",
        "writer = SummaryWriter('runs/fashion_trainer_{}'.format(timestamp))\n",
        "epoch_number = 0\n",
        "\n",
        "EPOCHS = 5\n",
        "\n",
        "best_vloss = 1_000_000.\n",
        "\n",
        "for epoch in range(EPOCHS):\n",
        "    print('EPOCH {}:'.format(epoch_number + 1))\n",
        "\n",
        "    # Make sure gradient tracking is on, and do a pass over the data\n",
        "    model.train(True)\n",
        "    avg_loss = train_one_epoch(epoch_number, writer)\n",
        "\n",
        "    # We don't need gradients on to do reporting\n",
        "    model.train(False)\n",
        "\n",
        "    running_vloss = 0.0\n",
        "    for i, vdata in enumerate(validation_loader):\n",
        "        vinputs, vlabels = vdata\n",
        "        voutputs = model(vinputs)\n",
        "        vloss = loss_fn(voutputs, vlabels)\n",
        "        running_vloss += vloss\n",
        "\n",
        "    avg_vloss = running_vloss / (i + 1)\n",
        "    print('LOSS train {} valid {}'.format(avg_loss, avg_vloss))\n",
        "\n",
        "    # Log the running loss averaged per batch\n",
        "    # for both training and validation\n",
        "    writer.add_scalars('Training vs. Validation Loss',\n",
        "                    { 'Training' : avg_loss, 'Validation' : avg_vloss },\n",
        "                    epoch_number + 1)\n",
        "    writer.flush()\n",
        "\n",
        "    # Track best performance, and save the model's state\n",
        "    if avg_vloss < best_vloss:\n",
        "        best_vloss = avg_vloss\n",
        "        model_path = 'model_{}_{}'.format(timestamp, epoch_number)\n",
        "        torch.save(model.state_dict(), model_path)\n",
        "\n",
        "    epoch_number += 1"
      ],
      "metadata": {
        "colab": {
          "base_uri": "https://localhost:8080/"
        },
        "id": "35jsF6dZ4Hlq",
        "outputId": "1b905d19-3a3d-4162-b2d9-2c896498b0af"
      },
      "execution_count": null,
      "outputs": [
        {
          "output_type": "stream",
          "name": "stdout",
          "text": [
            "EPOCH 1:\n",
            "  batch 1000 loss: 1.7052603275626899\n",
            "  batch 2000 loss: 0.8081635039895773\n",
            "  batch 3000 loss: 0.6670757386945187\n",
            "  batch 4000 loss: 0.6398680353057571\n",
            "  batch 5000 loss: 0.6042178578309831\n",
            "  batch 6000 loss: 0.5862486737694708\n",
            "  batch 7000 loss: 0.5466249065340962\n",
            "  batch 8000 loss: 0.534749640013877\n",
            "  batch 9000 loss: 0.5143960502118571\n",
            "  batch 10000 loss: 0.49160817020293324\n",
            "  batch 11000 loss: 0.48073204873199576\n",
            "  batch 12000 loss: 0.4792433746672468\n",
            "  batch 13000 loss: 0.4496018420099281\n",
            "  batch 14000 loss: 0.46419690796965735\n",
            "  batch 15000 loss: 0.43451347304228694\n",
            "LOSS train 0.43451347304228694 valid 0.4276195764541626\n",
            "EPOCH 2:\n",
            "  batch 1000 loss: 0.40670005799731007\n",
            "  batch 2000 loss: 0.42502640876325315\n",
            "  batch 3000 loss: 0.41893996040394993\n",
            "  batch 4000 loss: 0.40222991805744823\n",
            "  batch 5000 loss: 0.38450373202422633\n",
            "  batch 6000 loss: 0.41050434745976233\n",
            "  batch 7000 loss: 0.3888735272201593\n",
            "  batch 8000 loss: 0.3739240455732215\n",
            "  batch 9000 loss: 0.38415506149834255\n",
            "  batch 10000 loss: 0.3872066893392475\n",
            "  batch 11000 loss: 0.3734845570070029\n",
            "  batch 12000 loss: 0.34950211874239906\n",
            "  batch 13000 loss: 0.3658386618561926\n",
            "  batch 14000 loss: 0.35420397101924755\n",
            "  batch 15000 loss: 0.35975551312835885\n",
            "LOSS train 0.35975551312835885 valid 0.3984116017818451\n",
            "EPOCH 3:\n",
            "  batch 1000 loss: 0.3410915394994663\n",
            "  batch 2000 loss: 0.352503238723275\n",
            "  batch 3000 loss: 0.3473561357164872\n",
            "  batch 4000 loss: 0.33904231912443356\n",
            "  batch 5000 loss: 0.32240329966888387\n",
            "  batch 6000 loss: 0.3370433406277734\n",
            "  batch 7000 loss: 0.3339950188586372\n",
            "  batch 8000 loss: 0.3304207252532651\n",
            "  batch 9000 loss: 0.35302374102211614\n",
            "  batch 10000 loss: 0.3390267914021242\n",
            "  batch 11000 loss: 0.30482070278038736\n",
            "  batch 12000 loss: 0.32466163650591623\n",
            "  batch 13000 loss: 0.3260052337730012\n",
            "  batch 14000 loss: 0.3189069326032768\n",
            "  batch 15000 loss: 0.3212833148300597\n",
            "LOSS train 0.3212833148300597 valid 0.3734588027000427\n",
            "EPOCH 4:\n",
            "  batch 1000 loss: 0.3096087452454012\n",
            "  batch 2000 loss: 0.2997113937453978\n",
            "  batch 3000 loss: 0.29074216562104993\n",
            "  batch 4000 loss: 0.32019827361930947\n",
            "  batch 5000 loss: 0.30835324847491574\n",
            "  batch 6000 loss: 0.2981822356739212\n",
            "  batch 7000 loss: 0.30468768791835465\n",
            "  batch 8000 loss: 0.28149226627984897\n",
            "  batch 9000 loss: 0.31260842276853507\n",
            "  batch 10000 loss: 0.2973886631241985\n",
            "  batch 11000 loss: 0.32729298463536544\n",
            "  batch 12000 loss: 0.28530038212145153\n",
            "  batch 13000 loss: 0.29057451479534213\n",
            "  batch 14000 loss: 0.3180856289159274\n",
            "  batch 15000 loss: 0.3131979542635299\n",
            "LOSS train 0.3131979542635299 valid 0.3335360288619995\n",
            "EPOCH 5:\n",
            "  batch 1000 loss: 0.27567432053457014\n",
            "  batch 2000 loss: 0.28329844646059793\n",
            "  batch 3000 loss: 0.27902332285183545\n",
            "  batch 4000 loss: 0.2662088112336169\n",
            "  batch 5000 loss: 0.31756132617773253\n",
            "  batch 6000 loss: 0.283856081455644\n",
            "  batch 7000 loss: 0.27360772993513455\n",
            "  batch 8000 loss: 0.30039387901827286\n",
            "  batch 9000 loss: 0.2666177971381403\n",
            "  batch 10000 loss: 0.26333818762220473\n",
            "  batch 11000 loss: 0.30727994722947916\n",
            "  batch 12000 loss: 0.29536736887953885\n",
            "  batch 13000 loss: 0.27828273911431095\n",
            "  batch 14000 loss: 0.27247061024597496\n",
            "  batch 15000 loss: 0.27955026580546566\n",
            "LOSS train 0.27955026580546566 valid 0.32701489329338074\n"
          ]
        }
      ]
    },
    {
      "cell_type": "code",
      "source": [],
      "metadata": {
        "id": "U0WlX7504Rrr"
      },
      "execution_count": null,
      "outputs": []
    }
  ]
}